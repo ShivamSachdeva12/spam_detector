{
 "cells": [
  {
   "cell_type": "code",
   "execution_count": 279,
   "id": "5d04a356-7206-44d9-8967-bd2ac1040da4",
   "metadata": {},
   "outputs": [
    {
     "data": {
      "text/html": [
       "<div>\n",
       "<style scoped>\n",
       "    .dataframe tbody tr th:only-of-type {\n",
       "        vertical-align: middle;\n",
       "    }\n",
       "\n",
       "    .dataframe tbody tr th {\n",
       "        vertical-align: top;\n",
       "    }\n",
       "\n",
       "    .dataframe thead th {\n",
       "        text-align: right;\n",
       "    }\n",
       "</style>\n",
       "<table border=\"1\" class=\"dataframe\">\n",
       "  <thead>\n",
       "    <tr style=\"text-align: right;\">\n",
       "      <th></th>\n",
       "      <th>v1</th>\n",
       "      <th>v2</th>\n",
       "      <th>Unnamed: 2</th>\n",
       "      <th>Unnamed: 3</th>\n",
       "      <th>Unnamed: 4</th>\n",
       "    </tr>\n",
       "  </thead>\n",
       "  <tbody>\n",
       "    <tr>\n",
       "      <th>0</th>\n",
       "      <td>ham</td>\n",
       "      <td>Go until jurong point, crazy.. Available only ...</td>\n",
       "      <td>NaN</td>\n",
       "      <td>NaN</td>\n",
       "      <td>NaN</td>\n",
       "    </tr>\n",
       "    <tr>\n",
       "      <th>1</th>\n",
       "      <td>ham</td>\n",
       "      <td>Ok lar... Joking wif u oni...</td>\n",
       "      <td>NaN</td>\n",
       "      <td>NaN</td>\n",
       "      <td>NaN</td>\n",
       "    </tr>\n",
       "    <tr>\n",
       "      <th>2</th>\n",
       "      <td>spam</td>\n",
       "      <td>Free entry in 2 a wkly comp to win FA Cup fina...</td>\n",
       "      <td>NaN</td>\n",
       "      <td>NaN</td>\n",
       "      <td>NaN</td>\n",
       "    </tr>\n",
       "    <tr>\n",
       "      <th>3</th>\n",
       "      <td>ham</td>\n",
       "      <td>U dun say so early hor... U c already then say...</td>\n",
       "      <td>NaN</td>\n",
       "      <td>NaN</td>\n",
       "      <td>NaN</td>\n",
       "    </tr>\n",
       "    <tr>\n",
       "      <th>4</th>\n",
       "      <td>ham</td>\n",
       "      <td>Nah I don't think he goes to usf, he lives aro...</td>\n",
       "      <td>NaN</td>\n",
       "      <td>NaN</td>\n",
       "      <td>NaN</td>\n",
       "    </tr>\n",
       "  </tbody>\n",
       "</table>\n",
       "</div>"
      ],
      "text/plain": [
       "     v1                                                 v2 Unnamed: 2  \\\n",
       "0   ham  Go until jurong point, crazy.. Available only ...        NaN   \n",
       "1   ham                      Ok lar... Joking wif u oni...        NaN   \n",
       "2  spam  Free entry in 2 a wkly comp to win FA Cup fina...        NaN   \n",
       "3   ham  U dun say so early hor... U c already then say...        NaN   \n",
       "4   ham  Nah I don't think he goes to usf, he lives aro...        NaN   \n",
       "\n",
       "  Unnamed: 3 Unnamed: 4  \n",
       "0        NaN        NaN  \n",
       "1        NaN        NaN  \n",
       "2        NaN        NaN  \n",
       "3        NaN        NaN  \n",
       "4        NaN        NaN  "
      ]
     },
     "execution_count": 279,
     "metadata": {},
     "output_type": "execute_result"
    }
   ],
   "source": [
    "import chardet\n",
    "import pandas as pd\n",
    "\n",
    "# Read the first few thousand bytes to detect the encoding\n",
    "with open('spam_2.csv', 'rb') as file:\n",
    "    raw_data = file.read(10000)\n",
    "    result = chardet.detect(raw_data)\n",
    "    encoding = result['encoding']\n",
    "\n",
    "\n",
    "# Read the CSV file with the detected encoding\n",
    "df = pd.read_csv('spam_2.csv', encoding=encoding)\n",
    "\n",
    "df.head()\n"
   ]
  },
  {
   "cell_type": "code",
   "execution_count": 280,
   "id": "c33fcb29-67a6-4902-85da-cf3b147843d1",
   "metadata": {},
   "outputs": [
    {
     "name": "stdout",
     "output_type": "stream",
     "text": [
      "<class 'pandas.core.frame.DataFrame'>\n",
      "RangeIndex: 5572 entries, 0 to 5571\n",
      "Data columns (total 5 columns):\n",
      " #   Column      Non-Null Count  Dtype \n",
      "---  ------      --------------  ----- \n",
      " 0   v1          5572 non-null   object\n",
      " 1   v2          5572 non-null   object\n",
      " 2   Unnamed: 2  50 non-null     object\n",
      " 3   Unnamed: 3  12 non-null     object\n",
      " 4   Unnamed: 4  6 non-null      object\n",
      "dtypes: object(5)\n",
      "memory usage: 217.8+ KB\n"
     ]
    }
   ],
   "source": [
    "df.info()"
   ]
  },
  {
   "cell_type": "code",
   "execution_count": 281,
   "id": "b83ad598-0e33-4415-b2e7-c2634c7b942e",
   "metadata": {},
   "outputs": [],
   "source": [
    "df.drop(columns=['Unnamed: 2','Unnamed: 3','Unnamed: 4'],inplace=True)"
   ]
  },
  {
   "cell_type": "code",
   "execution_count": 282,
   "id": "38ea881c-ea29-475d-b519-93f4959f45d1",
   "metadata": {},
   "outputs": [
    {
     "data": {
      "text/html": [
       "<div>\n",
       "<style scoped>\n",
       "    .dataframe tbody tr th:only-of-type {\n",
       "        vertical-align: middle;\n",
       "    }\n",
       "\n",
       "    .dataframe tbody tr th {\n",
       "        vertical-align: top;\n",
       "    }\n",
       "\n",
       "    .dataframe thead th {\n",
       "        text-align: right;\n",
       "    }\n",
       "</style>\n",
       "<table border=\"1\" class=\"dataframe\">\n",
       "  <thead>\n",
       "    <tr style=\"text-align: right;\">\n",
       "      <th></th>\n",
       "      <th>v1</th>\n",
       "      <th>v2</th>\n",
       "    </tr>\n",
       "  </thead>\n",
       "  <tbody>\n",
       "    <tr>\n",
       "      <th>135</th>\n",
       "      <td>ham</td>\n",
       "      <td>I only haf msn. It's yijue@hotmail.com</td>\n",
       "    </tr>\n",
       "    <tr>\n",
       "      <th>5542</th>\n",
       "      <td>ham</td>\n",
       "      <td>Armand says get your ass over to epsilon</td>\n",
       "    </tr>\n",
       "    <tr>\n",
       "      <th>490</th>\n",
       "      <td>ham</td>\n",
       "      <td>Sorry man my account's dry or I would, if you ...</td>\n",
       "    </tr>\n",
       "    <tr>\n",
       "      <th>1634</th>\n",
       "      <td>spam</td>\n",
       "      <td>Eerie Nokia tones 4u, rply TONE TITLE to 8007 ...</td>\n",
       "    </tr>\n",
       "    <tr>\n",
       "      <th>5524</th>\n",
       "      <td>spam</td>\n",
       "      <td>You are awarded a SiPix Digital Camera! call 0...</td>\n",
       "    </tr>\n",
       "  </tbody>\n",
       "</table>\n",
       "</div>"
      ],
      "text/plain": [
       "        v1                                                 v2\n",
       "135    ham             I only haf msn. It's yijue@hotmail.com\n",
       "5542   ham           Armand says get your ass over to epsilon\n",
       "490    ham  Sorry man my account's dry or I would, if you ...\n",
       "1634  spam  Eerie Nokia tones 4u, rply TONE TITLE to 8007 ...\n",
       "5524  spam  You are awarded a SiPix Digital Camera! call 0..."
      ]
     },
     "execution_count": 282,
     "metadata": {},
     "output_type": "execute_result"
    }
   ],
   "source": [
    "df.sample(5)"
   ]
  },
  {
   "cell_type": "code",
   "execution_count": 283,
   "id": "3e6f995c-3bc6-4338-840c-54dcf8daed53",
   "metadata": {},
   "outputs": [],
   "source": [
    "df=df.rename(columns={'v1':'result','v2':'sms'})"
   ]
  },
  {
   "cell_type": "code",
   "execution_count": 284,
   "id": "6de1f5cc-107d-4a2b-941c-1db100db8697",
   "metadata": {},
   "outputs": [
    {
     "data": {
      "text/html": [
       "<div>\n",
       "<style scoped>\n",
       "    .dataframe tbody tr th:only-of-type {\n",
       "        vertical-align: middle;\n",
       "    }\n",
       "\n",
       "    .dataframe tbody tr th {\n",
       "        vertical-align: top;\n",
       "    }\n",
       "\n",
       "    .dataframe thead th {\n",
       "        text-align: right;\n",
       "    }\n",
       "</style>\n",
       "<table border=\"1\" class=\"dataframe\">\n",
       "  <thead>\n",
       "    <tr style=\"text-align: right;\">\n",
       "      <th></th>\n",
       "      <th>result</th>\n",
       "      <th>sms</th>\n",
       "    </tr>\n",
       "  </thead>\n",
       "  <tbody>\n",
       "    <tr>\n",
       "      <th>0</th>\n",
       "      <td>ham</td>\n",
       "      <td>Go until jurong point, crazy.. Available only ...</td>\n",
       "    </tr>\n",
       "    <tr>\n",
       "      <th>1</th>\n",
       "      <td>ham</td>\n",
       "      <td>Ok lar... Joking wif u oni...</td>\n",
       "    </tr>\n",
       "    <tr>\n",
       "      <th>2</th>\n",
       "      <td>spam</td>\n",
       "      <td>Free entry in 2 a wkly comp to win FA Cup fina...</td>\n",
       "    </tr>\n",
       "    <tr>\n",
       "      <th>3</th>\n",
       "      <td>ham</td>\n",
       "      <td>U dun say so early hor... U c already then say...</td>\n",
       "    </tr>\n",
       "    <tr>\n",
       "      <th>4</th>\n",
       "      <td>ham</td>\n",
       "      <td>Nah I don't think he goes to usf, he lives aro...</td>\n",
       "    </tr>\n",
       "  </tbody>\n",
       "</table>\n",
       "</div>"
      ],
      "text/plain": [
       "  result                                                sms\n",
       "0    ham  Go until jurong point, crazy.. Available only ...\n",
       "1    ham                      Ok lar... Joking wif u oni...\n",
       "2   spam  Free entry in 2 a wkly comp to win FA Cup fina...\n",
       "3    ham  U dun say so early hor... U c already then say...\n",
       "4    ham  Nah I don't think he goes to usf, he lives aro..."
      ]
     },
     "execution_count": 284,
     "metadata": {},
     "output_type": "execute_result"
    }
   ],
   "source": [
    "df.head()"
   ]
  },
  {
   "cell_type": "code",
   "execution_count": 285,
   "id": "bcd8072f-941b-4899-83d3-b898c78254e7",
   "metadata": {},
   "outputs": [
    {
     "data": {
      "text/plain": [
       "result    0\n",
       "sms       0\n",
       "dtype: int64"
      ]
     },
     "execution_count": 285,
     "metadata": {},
     "output_type": "execute_result"
    }
   ],
   "source": [
    "df.isna().sum()"
   ]
  },
  {
   "cell_type": "code",
   "execution_count": 286,
   "id": "9dcd3715-9d34-4462-891c-a97fb20afd51",
   "metadata": {},
   "outputs": [
    {
     "data": {
      "text/plain": [
       "403"
      ]
     },
     "execution_count": 286,
     "metadata": {},
     "output_type": "execute_result"
    }
   ],
   "source": [
    "df.duplicated().sum()"
   ]
  },
  {
   "cell_type": "code",
   "execution_count": 287,
   "id": "34237dbe-53b5-4e46-89ed-3a4a66a1dbb0",
   "metadata": {},
   "outputs": [],
   "source": [
    "df=df.drop_duplicates()"
   ]
  },
  {
   "cell_type": "code",
   "execution_count": 288,
   "id": "facff419-6f6d-41a3-aa41-6c883d0ad436",
   "metadata": {},
   "outputs": [
    {
     "data": {
      "text/plain": [
       "0"
      ]
     },
     "execution_count": 288,
     "metadata": {},
     "output_type": "execute_result"
    }
   ],
   "source": [
    "df.duplicated().sum()"
   ]
  },
  {
   "cell_type": "code",
   "execution_count": 289,
   "id": "3c9c26b3-9b69-4155-a1d3-fc1c46255322",
   "metadata": {},
   "outputs": [
    {
     "data": {
      "text/plain": [
       "result\n",
       "ham     4516\n",
       "spam     653\n",
       "Name: count, dtype: int64"
      ]
     },
     "execution_count": 289,
     "metadata": {},
     "output_type": "execute_result"
    }
   ],
   "source": [
    "df['result'].value_counts()"
   ]
  },
  {
   "cell_type": "code",
   "execution_count": 290,
   "id": "7382cd1c-448b-4be3-b807-9b410a36736d",
   "metadata": {},
   "outputs": [],
   "source": [
    "df['result']=df['result'].map({'ham':0,'spam':1})"
   ]
  },
  {
   "cell_type": "code",
   "execution_count": 291,
   "id": "574d9638-b798-4725-9122-e081ccf38d54",
   "metadata": {},
   "outputs": [
    {
     "data": {
      "text/html": [
       "<div>\n",
       "<style scoped>\n",
       "    .dataframe tbody tr th:only-of-type {\n",
       "        vertical-align: middle;\n",
       "    }\n",
       "\n",
       "    .dataframe tbody tr th {\n",
       "        vertical-align: top;\n",
       "    }\n",
       "\n",
       "    .dataframe thead th {\n",
       "        text-align: right;\n",
       "    }\n",
       "</style>\n",
       "<table border=\"1\" class=\"dataframe\">\n",
       "  <thead>\n",
       "    <tr style=\"text-align: right;\">\n",
       "      <th></th>\n",
       "      <th>result</th>\n",
       "      <th>sms</th>\n",
       "    </tr>\n",
       "  </thead>\n",
       "  <tbody>\n",
       "    <tr>\n",
       "      <th>0</th>\n",
       "      <td>0</td>\n",
       "      <td>Go until jurong point, crazy.. Available only ...</td>\n",
       "    </tr>\n",
       "    <tr>\n",
       "      <th>1</th>\n",
       "      <td>0</td>\n",
       "      <td>Ok lar... Joking wif u oni...</td>\n",
       "    </tr>\n",
       "    <tr>\n",
       "      <th>2</th>\n",
       "      <td>1</td>\n",
       "      <td>Free entry in 2 a wkly comp to win FA Cup fina...</td>\n",
       "    </tr>\n",
       "    <tr>\n",
       "      <th>3</th>\n",
       "      <td>0</td>\n",
       "      <td>U dun say so early hor... U c already then say...</td>\n",
       "    </tr>\n",
       "    <tr>\n",
       "      <th>4</th>\n",
       "      <td>0</td>\n",
       "      <td>Nah I don't think he goes to usf, he lives aro...</td>\n",
       "    </tr>\n",
       "  </tbody>\n",
       "</table>\n",
       "</div>"
      ],
      "text/plain": [
       "   result                                                sms\n",
       "0       0  Go until jurong point, crazy.. Available only ...\n",
       "1       0                      Ok lar... Joking wif u oni...\n",
       "2       1  Free entry in 2 a wkly comp to win FA Cup fina...\n",
       "3       0  U dun say so early hor... U c already then say...\n",
       "4       0  Nah I don't think he goes to usf, he lives aro..."
      ]
     },
     "execution_count": 291,
     "metadata": {},
     "output_type": "execute_result"
    }
   ],
   "source": [
    "df.head()"
   ]
  },
  {
   "cell_type": "code",
   "execution_count": 292,
   "id": "f5d5fc28-e2bd-4d89-9ba3-2fee6b08c786",
   "metadata": {},
   "outputs": [
    {
     "name": "stdout",
     "output_type": "stream",
     "text": [
      "<class 'pandas.core.frame.DataFrame'>\n",
      "Index: 5169 entries, 0 to 5571\n",
      "Data columns (total 2 columns):\n",
      " #   Column  Non-Null Count  Dtype \n",
      "---  ------  --------------  ----- \n",
      " 0   result  5169 non-null   int64 \n",
      " 1   sms     5169 non-null   object\n",
      "dtypes: int64(1), object(1)\n",
      "memory usage: 121.1+ KB\n"
     ]
    }
   ],
   "source": [
    "df.info()"
   ]
  },
  {
   "cell_type": "code",
   "execution_count": 293,
   "id": "cf076757-c2f9-4a42-91fb-2b6b945ff22d",
   "metadata": {},
   "outputs": [
    {
     "name": "stdout",
     "output_type": "stream",
     "text": [
      "Requirement already satisfied: emoji in /opt/anaconda3/lib/python3.11/site-packages (2.12.1)\n",
      "Requirement already satisfied: textblob in /opt/anaconda3/lib/python3.11/site-packages (0.18.0.post0)\n",
      "Requirement already satisfied: nltk in /opt/anaconda3/lib/python3.11/site-packages (3.8.1)\n",
      "Requirement already satisfied: typing-extensions>=4.7.0 in /opt/anaconda3/lib/python3.11/site-packages (from emoji) (4.9.0)\n",
      "Requirement already satisfied: click in /opt/anaconda3/lib/python3.11/site-packages (from nltk) (8.1.7)\n",
      "Requirement already satisfied: joblib in /opt/anaconda3/lib/python3.11/site-packages (from nltk) (1.2.0)\n",
      "Requirement already satisfied: regex>=2021.8.3 in /opt/anaconda3/lib/python3.11/site-packages (from nltk) (2023.10.3)\n",
      "Requirement already satisfied: tqdm in /opt/anaconda3/lib/python3.11/site-packages (from nltk) (4.65.0)\n"
     ]
    }
   ],
   "source": [
    "!pip install emoji textblob nltk "
   ]
  },
  {
   "cell_type": "code",
   "execution_count": 294,
   "id": "e569ac50-9068-4cb9-b1e5-2d46df6bb8fc",
   "metadata": {},
   "outputs": [],
   "source": [
    "slangs=pd.read_csv(\"Abbreviations and Slang.csv\")"
   ]
  },
  {
   "cell_type": "code",
   "execution_count": 295,
   "id": "93854d96-124b-422a-844f-4511298d2340",
   "metadata": {},
   "outputs": [
    {
     "data": {
      "text/plain": [
       "{'lol': 'laughing',\n",
       " 'rofl': 'laughing',\n",
       " 'brb': 'be right back',\n",
       " 'ily': 'i love you',\n",
       " 'ty': 'thank you',\n",
       " 'imy': 'i miss you',\n",
       " 'yolo': 'you only live once',\n",
       " 'fomo': 'fear of missing out',\n",
       " 'idk': 'i do not know',\n",
       " 'idc': 'i do not care',\n",
       " 'ffs': 'for freaks sake',\n",
       " 'smh': 'shake my head',\n",
       " 'ngl': 'not going to lie',\n",
       " 'w': 'with',\n",
       " 'abt': 'about',\n",
       " 'u': 'you only live once',\n",
       " 'r': 'are',\n",
       " 'gtg': 'going to go',\n",
       " 'nvm': 'never mind',\n",
       " 'bcoz': 'because',\n",
       " 'coz': 'because',\n",
       " 'bcos': 'because',\n",
       " 'cld': 'could',\n",
       " 'ez': 'easy',\n",
       " 'fbm': 'fine by me',\n",
       " 'ftw': 'for the win',\n",
       " 'fyi': 'for your information',\n",
       " 'ik': 'i know',\n",
       " 'wfh': 'work from home',\n",
       " 'lmfao': 'laughing my freaking ass off',\n",
       " 'lmk': 'let me know',\n",
       " 'af': 'as freak',\n",
       " 'aight': 'alright',\n",
       " 'awol': 'away without leaving',\n",
       " 'irl ': 'in real life',\n",
       " 'bt': 'bad trip',\n",
       " 'bb': 'baby',\n",
       " 'btw': 'by the way ',\n",
       " 'cu': 'see you',\n",
       " 'idgaf': \"i don't give a freak\",\n",
       " 'dgaf': \"don't give a freak\",\n",
       " 'df': 'the freak ',\n",
       " 'dis': 'this',\n",
       " 'dm': 'direct message',\n",
       " 'dnt': \"don't \",\n",
       " 'dw': \"don't worry\",\n",
       " 'enf': 'enough',\n",
       " 'eta': 'estimated time of arrival',\n",
       " 'fu': 'freak you',\n",
       " 'fwm': 'fine with me',\n",
       " 'gg': 'good game',\n",
       " 'gn': 'good night',\n",
       " 'gm': 'good morning',\n",
       " 'gr8': 'great',\n",
       " 'grl': 'girl',\n",
       " 'grw': 'get ready with me',\n",
       " 'h8': 'hate',\n",
       " 'hbd': 'happy birthday',\n",
       " 'hbu': 'how about you',\n",
       " 'hru': 'how are you',\n",
       " 'hw': 'homework',\n",
       " 'idts': \"i don't think so\",\n",
       " 'ig': 'instagram',\n",
       " 'ilysm': 'i love you so much',\n",
       " 'imo': 'in my opinion',\n",
       " 'jk': 'just kidding',\n",
       " 'k': 'okay',\n",
       " 'ldr': 'long distance relationship',\n",
       " 'l2g': 'like to go',\n",
       " 'ly': 'love you',\n",
       " 'mfw': 'my face when',\n",
       " 'm8': 'mate',\n",
       " 'nbd': 'no big deal',\n",
       " 'nsfw': 'not safe for work',\n",
       " 'nm': 'nothing much',\n",
       " 'np': 'no problem',\n",
       " 'nw': 'no way',\n",
       " 'og': 'original gangster',\n",
       " 'ofc': 'ofcourse',\n",
       " 'omg': 'oh my god',\n",
       " 'omfg': 'oh my freaking god',\n",
       " 'ootd': 'outfit of the day',\n",
       " 'otb': 'off to bed',\n",
       " 'otw': 'off to work',\n",
       " 'pm': 'private message',\n",
       " 'ppl': 'people',\n",
       " 'prob': 'probably',\n",
       " 'qt': 'cutie',\n",
       " 'rly': 'really',\n",
       " 'sh': 'same here',\n",
       " 'sis': 'sister',\n",
       " 'bro': 'brother',\n",
       " 'sry': 'sorry',\n",
       " 'sup': \"what's up\",\n",
       " 'tbh': 'to be honest',\n",
       " 'thnk': 'thank you',\n",
       " 'thx': 'thanks',\n",
       " 'ttly': 'totally',\n",
       " 'ttyl': 'talk to you later',\n",
       " 'ur': 'you are',\n",
       " 'wb': 'welcome back',\n",
       " 'whatevs': 'whatever',\n",
       " 'wyd': 'what are you doing',\n",
       " 'wdyk': 'what do you know',\n",
       " 'wru': 'where are you',\n",
       " 'wtf': 'what the freak',\n",
       " 'wtg': 'way to go',\n",
       " 'wywh': 'wish you were here',\n",
       " 'XD': 'laugh',\n",
       " 'xoxo': 'hugs and kisses',\n",
       " 'xo': 'hugs and kisses',\n",
       " 'y': 'why',\n",
       " 'tryna': 'trying to be '}"
      ]
     },
     "execution_count": 295,
     "metadata": {},
     "output_type": "execute_result"
    }
   ],
   "source": [
    "slangs=pd.read_csv(\"Abbreviations and Slang.csv\")\n",
    "# Convert DataFrame to dictionary\n",
    "abbreviation_dict = pd.Series(slangs.Text.values, index=slangs.Abbreviations).to_dict()\n",
    "\n",
    "# Print the dictionary\n",
    "abbreviation_dict"
   ]
  },
  {
   "cell_type": "code",
   "execution_count": 296,
   "id": "092431f2-9836-4206-abdc-55a7d5427f3f",
   "metadata": {},
   "outputs": [],
   "source": [
    "y=df['result']"
   ]
  },
  {
   "cell_type": "code",
   "execution_count": 297,
   "id": "f875e70c-a7ba-445d-b601-87d9d7e8fc42",
   "metadata": {},
   "outputs": [
    {
     "data": {
      "text/plain": [
       "0       0\n",
       "1       0\n",
       "2       1\n",
       "3       0\n",
       "4       0\n",
       "       ..\n",
       "5567    1\n",
       "5568    0\n",
       "5569    0\n",
       "5570    0\n",
       "5571    0\n",
       "Name: result, Length: 5169, dtype: int64"
      ]
     },
     "execution_count": 297,
     "metadata": {},
     "output_type": "execute_result"
    }
   ],
   "source": [
    "y"
   ]
  },
  {
   "cell_type": "code",
   "execution_count": 312,
   "id": "2bb83368-d00e-4f8c-935d-ac344efdbc75",
   "metadata": {},
   "outputs": [
    {
     "name": "stderr",
     "output_type": "stream",
     "text": [
      "[nltk_data] Downloading package punkt to /Users/shivam/nltk_data...\n",
      "[nltk_data]   Package punkt is already up-to-date!\n"
     ]
    }
   ],
   "source": [
    "\n",
    "from nltk.tokenize import word_tokenize\n",
    "from nltk.stem import PorterStemmer\n",
    "# Download necessary NLTK resources\n",
    "nltk.download('punkt')\n",
    "def preprocess_text(text):\n",
    "    # 1. Convert all characters to lowercase\n",
    "    text = text.lower()\n",
    "    \n",
    "    # 2. Replace emojis with text descriptions using demojize\n",
    "    text = emoji.demojize(text)\n",
    "    \n",
    "    # 3. Remove URLs\n",
    "    text = re.sub(r'http\\S+|www\\S+|https\\S+', '', text, flags=re.MULTILINE)\n",
    "    \n",
    "    # 4. Remove punctuation\n",
    "    text = text.translate(str.maketrans('', '', string.punctuation))\n",
    "    \n",
    "    # 5. Remove stopwords\n",
    "    text = ' '.join([word for word in text.split() if word not in stop_words])\n",
    "    \n",
    "    text = ''.join(char if char.isalpha() or char.isspace() else '' for char in text)\n",
    "    # Optional: Remove extra spaces\n",
    "    text = ' '.join(text.split())\n",
    "\n",
    "    words = text.split()\n",
    "    new_text = []\n",
    "    for word in words:\n",
    "        # Check if the word is in the abbreviation dictionary\n",
    "        word_lower = word.lower()\n",
    "        if word_lower in abbreviation_dict:\n",
    "            # Replace it with the full form\n",
    "            new_text.append(abbreviation_dict[word_lower])\n",
    "        else:\n",
    "            # Keep the word as is\n",
    "            new_text.append(word)\n",
    "    text = ' '.join(new_text)\n",
    "\n",
    "\n",
    "    tokens= word_tokenize(text)\n",
    "    stemmer = PorterStemmer()\n",
    "    stemmed_tokens= [stemmer.stem(token) for token in tokens]\n",
    "    text= ' '.join(stemmed_tokens)\n",
    "\n",
    "    return text"
   ]
  },
  {
   "cell_type": "code",
   "execution_count": null,
   "id": "19727771-e35b-4525-8b82-04618f256366",
   "metadata": {},
   "outputs": [],
   "source": [
    "df['processed_sms']=df['sms'].apply(preprocess_text)\n",
    "df=df.drop(columns=['sms'])\n",
    "df.head()"
   ]
  },
  {
   "cell_type": "code",
   "execution_count": 318,
   "id": "9fd1627f-6f3e-425e-9980-c49732e8d904",
   "metadata": {},
   "outputs": [],
   "source": [
    "from sklearn.feature_extraction.text import TfidfVectorizer\n",
    "\n",
    "\n",
    "# Initialize TF-IDF Vectorizer\n",
    "vectorizer = TfidfVectorizer(max_features=3000)\n",
    "\n",
    "# Fit and transform the data\n",
    "X_tfidf = vectorizer.fit_transform(df['processed_sms'])\n",
    "\n",
    "# Convert the TF-IDF matrix to a DataFrame for easier inspection\n",
    "tfidf_df = pd.DataFrame(X_tfidf.toarray(), columns=vectorizer.get_feature_names_out())\n",
    "\n",
    "X_train, X_test, y_train, y_test = train_test_split(tfidf_df, y, test_size=0.2, random_state=42)"
   ]
  },
  {
   "cell_type": "code",
   "execution_count": 319,
   "id": "d85e3f95-6eb8-48f3-9bd0-97a12e7e5d32",
   "metadata": {},
   "outputs": [],
   "source": [
    "from sklearn.naive_bayes import MultinomialNB\n",
    "model = MultinomialNB()\n",
    "\n",
    "# Train the model\n",
    "model.fit(X_train, y_train)\n",
    "\n",
    "# Make predictions on the test set\n",
    "y_pred = model.predict(X_test)\n",
    "\n",
    "# Evaluate the model\n",
    "accuracy = accuracy_score(y_test, y_pred)\n",
    "report = confusion_matrix(y_test, y_pred)\n",
    "precision=precision_score(y_test, y_pred)"
   ]
  },
  {
   "cell_type": "code",
   "execution_count": 320,
   "id": "a1e9d365-8570-4c7a-8961-28f25e5187ae",
   "metadata": {},
   "outputs": [
    {
     "data": {
      "text/plain": [
       "0.9709864603481625"
      ]
     },
     "execution_count": 320,
     "metadata": {},
     "output_type": "execute_result"
    }
   ],
   "source": [
    "accuracy"
   ]
  },
  {
   "cell_type": "code",
   "execution_count": 321,
   "id": "c9b405ea-d01e-4047-887a-94898b5c047f",
   "metadata": {},
   "outputs": [
    {
     "data": {
      "text/plain": [
       "1.0"
      ]
     },
     "execution_count": 321,
     "metadata": {},
     "output_type": "execute_result"
    }
   ],
   "source": [
    "precision"
   ]
  },
  {
   "cell_type": "code",
   "execution_count": 322,
   "id": "ae2beb80-9d8e-4e7f-9079-95ed757e0e4f",
   "metadata": {},
   "outputs": [],
   "source": [
    "import pickle\n",
    "pickle.dump(vectorizer,open('vectorizer.pkl','wb'))\n",
    "pickle.dump(model,open('model.pkl','wb'))"
   ]
  },
  {
   "cell_type": "code",
   "execution_count": null,
   "id": "d660db78-bcef-4d49-8cee-1a1c00dc88bb",
   "metadata": {},
   "outputs": [],
   "source": []
  }
 ],
 "metadata": {
  "kernelspec": {
   "display_name": "Python 3 (ipykernel)",
   "language": "python",
   "name": "python3"
  },
  "language_info": {
   "codemirror_mode": {
    "name": "ipython",
    "version": 3
   },
   "file_extension": ".py",
   "mimetype": "text/x-python",
   "name": "python",
   "nbconvert_exporter": "python",
   "pygments_lexer": "ipython3",
   "version": "3.11.7"
  }
 },
 "nbformat": 4,
 "nbformat_minor": 5
}
